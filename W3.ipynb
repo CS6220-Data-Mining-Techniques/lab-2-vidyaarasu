{
 "cells": [
  {
   "cell_type": "markdown",
   "metadata": {
    "id": "ZyXOyHBnCRNz"
   },
   "source": [
    "#**LAB 1: Measures of Center**\n",
    "\n",
    "The `mtcars` dataset contains data from the 1974 Motor Trends magazine, and includes 10 features of performance and design from a sample of 32 cars.\n",
    "\n",
    "- Import the csv file `mtcars.csv` as a data frame using a `pandas` module function.\n",
    "\n",
    "- Find the mean, median, and mode of the column `wt`.\n",
    "\n",
    "- Print the mean and median.\n",
    "\n",
    "Ex: for the column `qsec`, the output would be:\n",
    "```\n",
    "mean = 17.84875, median = 17.710\n",
    "```"
   ]
  },
  {
   "cell_type": "code",
   "execution_count": null,
   "metadata": {
    "id": "6pbGSdHoCO2G"
   },
   "outputs": [],
   "source": [
    "import pandas as pd\n",
    "\n",
    "# Read in the file mtcars.csv\n",
    "cars = # Your code here\n",
    "\n",
    "# Find the mean of the column wt\n",
    "mean = # Your code here\n",
    "\n",
    "# Find the median of the column wt\n",
    "median = # Your code here\n",
    "\n",
    "# Print mean and median in the form of mean = ..., median = ..."
   ]
  },
  {
   "cell_type": "markdown",
   "metadata": {
    "id": "zzQ6DfmXCxPh"
   },
   "source": [
    "#**LAB 1: Solution**"
   ]
  },
  {
   "cell_type": "code",
   "execution_count": 1,
   "metadata": {
    "colab": {
     "base_uri": "https://localhost:8080/"
    },
    "executionInfo": {
     "elapsed": 583,
     "status": "ok",
     "timestamp": 1695340715531,
     "user": {
      "displayName": "Mohammad Toutiaee",
      "userId": "02698600221419502368"
     },
     "user_tz": 420
    },
    "id": "e5CNSgoPC1Cp",
    "outputId": "e09bdd50-0c1a-4754-f52f-a10aa993876b"
   },
   "outputs": [
    {
     "name": "stdout",
     "output_type": "stream",
     "text": [
      "mean = 3.21725, median = 3.325\n"
     ]
    }
   ],
   "source": [
    "import pandas as pd\n",
    "\n",
    "# Read in the file mtcars.csv\n",
    "# Import CSV mtcars\n",
    "cars = pd.read_csv('https://raw.githubusercontent.com/mh2t/DS5110/main/data/mtcars.csv')\n",
    "# Edit element of column header\n",
    "cars.rename(columns={'Unnamed: 0':'brand'}, inplace=True)\n",
    "\n",
    "# Find the mean of the column wt\n",
    "mean = cars[\"wt\"].mean()\n",
    "\n",
    "# Find the median of the column wt\n",
    "median = cars[\"wt\"].median()\n",
    "\n",
    "print(\"mean = {:.5f}, median = {:.3f}\".format(mean, median))"
   ]
  },
  {
   "cell_type": "markdown",
   "metadata": {
    "id": "mDKpRLSvE79E"
   },
   "source": [
    "#**LAB 2: Calculating probabilities using a normal distribution**\n",
    "\n",
    "The intelligence quotient (IQ) of a randomly selected person follows a normal distribution with a mean of 100 and a standard deviation of 15. Use the `scipy` function `norm`  and user input values for `IQ1` and ` IQ2` to perform the following tasks:\n",
    "\n",
    "- Calculate the probability that a randomly selected person will have an IQ less than or equal to `IQ1`.\n",
    "- Calculate the probability that a randomly selected person will have an IQ between `IQ1` and `IQ2`.\n",
    "\n",
    "For example, if the input is:\n",
    "```\n",
    "105\n",
    "110\n",
    "```\n",
    "\n",
    "the output is:\n",
    "```\n",
    "The probability that a randomly selected person\n",
    " has an IQ less than or equal to 105.0 is 0.631.\n",
    "The probability that a randomly selected person\n",
    " has an IQ between 105.0 and 110.0 is 0.117.\n",
    "```"
   ]
  },
  {
   "cell_type": "code",
   "execution_count": null,
   "metadata": {
    "id": "m2vFHKUPFCs_"
   },
   "outputs": [],
   "source": [
    "# Import norm from scipy.stats\n",
    "from scipy.stats import norm\n",
    "\n",
    "# Input two IQs, making sure that IQ1 is less than IQ2\n",
    "IQ1 = float(input())\n",
    "IQ2 = float(input())\n",
    "\n",
    "while IQ1 > IQ2:\n",
    "    print(\"IQ1 should be less than IQ2. Enter numbers again.\")\n",
    "    IQ1 = float(input())\n",
    "    IQ2 = float(input())\n",
    "\n",
    "# Calculate the probability that a randomly selected person has an IQ less than or equal to IQ1.\n",
    "probLT = # Your code here\n",
    "\n",
    "# Calculate the probability that a randomly selected person has an IQ between IQ1 and IQ2\n",
    "probBetw = # Your code here\n",
    "\n",
    "print(\"The probability that a randomly selected person \\n has an IQ less than or equal to \" + str(IQ1) + \" is \", end=\"\")\n",
    "print('%.3f' % probLT + \".\")\n",
    "print(\"The probability that a randomly selected person \\n has an IQ between \" + str(IQ1) + \" and \" + str(IQ2)+ \" is \", end=\"\")\n",
    "print('%.3f' % probBetw + \".\")"
   ]
  },
  {
   "cell_type": "markdown",
   "metadata": {
    "id": "amuKa5xkFTVV"
   },
   "source": [
    "#**LAB 2: Solution**"
   ]
  },
  {
   "cell_type": "code",
   "execution_count": 2,
   "metadata": {
    "colab": {
     "base_uri": "https://localhost:8080/"
    },
    "executionInfo": {
     "elapsed": 10232,
     "status": "ok",
     "timestamp": 1695340741948,
     "user": {
      "displayName": "Mohammad Toutiaee",
      "userId": "02698600221419502368"
     },
     "user_tz": 420
    },
    "id": "ctAoGtgAFVfL",
    "outputId": "a5619dee-c32b-40df-a7ff-59e2552238c9"
   },
   "outputs": [
    {
     "name": "stdout",
     "output_type": "stream",
     "text": [
      "100\n",
      "120\n",
      "The probability that a randomly selected person \n",
      " has an IQ less than or equal to 100.0 is 0.500.\n",
      "The probability that a randomly selected person \n",
      " has an IQ between 100.0 and 120.0 is 0.409.\n"
     ]
    }
   ],
   "source": [
    "from scipy.stats import norm\n",
    "\n",
    "IQ1 = float(input())\n",
    "IQ2 = float(input())\n",
    "\n",
    "while IQ1 > IQ2:\n",
    "    print(\"IQ1 should be less than IQ2. Enter numbers again.\")\n",
    "    IQ1 = float(input())\n",
    "    IQ2 = float(input())\n",
    "\n",
    "# Calculate the probability that a randomly selected person has an IQ less than or equal to IQ1.\n",
    "probLT = norm.cdf(IQ1, 100, 15)\n",
    "\n",
    "# Calculate the probability that a randomly selected person has an IQ between IQ1 and IQ2\n",
    "probBetw = norm.cdf(IQ2, 100, 15) - norm.cdf(IQ1, 100, 15)\n",
    "\n",
    "print(\"The probability that a randomly selected person \\n has an IQ less than or equal to \" + str(IQ1) + \" is \", end=\"\")\n",
    "print('%.3f' % probLT + \".\")\n",
    "print(\"The probability that a randomly selected person \\n has an IQ between \" + str(IQ1) + \" and \" + str(IQ2)+ \" is \", end=\"\")\n",
    "print('%.3f' % probBetw + \".\")"
   ]
  },
  {
   "cell_type": "markdown",
   "metadata": {
    "id": "12zbOChjFlMb"
   },
   "source": [
    "#**LAB 3: One-sample hypothesis test for population proportion**\n",
    "\n",
    "The `gpa` dataset is a toy dataset containing the features `height` and `gpa` for 35 students. Use the `statsmodels` function `proportions_ztest` and the user defined values for the proportion for the null hypothesis `value` and the gpa cutoff `cutoff` to perform the following tasks:\n",
    "\n",
    "- Load the `gpa.csv` data set.\n",
    "- Find the number of students with a gpa greater than `cutoff`.\n",
    "- Find the total number of students.\n",
    "- Perform a z-test for the user input expected proportion.\n",
    "- Determine if the hypothesis that the actual proportion is different from the expected proportion should be rejected at the alpha = 0.01 significance level.\n",
    "\n",
    "Ex: When the input is:\n",
    "```\n",
    "0.5\n",
    "2.0\n",
    "```\n",
    "the ouput is:\n",
    "```\n",
    "(4.902, 0.000)\n",
    "The two-tailed p-value, 0.000, is less than α. Thus, sufficient evidence exists to support the hypothesis that the proportion is different from 0.5\n",
    "```"
   ]
  },
  {
   "cell_type": "code",
   "execution_count": null,
   "metadata": {
    "id": "xMFBhnzqFw1t"
   },
   "outputs": [],
   "source": [
    "import statsmodels.stats as st\n",
    "from statsmodels.stats.proportion import proportions_ztest\n",
    "import pandas as pd\n",
    "\n",
    "# Read in gpa.csv\n",
    "gpa = # Your code here\n",
    "\n",
    "# Get the value of the proportion for the null hypothesis\n",
    "value = float(input())\n",
    "# Get the gpa cutoff\n",
    "cutoff = float(input())\n",
    "\n",
    "# Determine the number of students with a gpa higher than cutoff\n",
    "counts = # Your code here\n",
    "\n",
    "# Determine the total number of students\n",
    "nobs = # Your code here\n",
    "\n",
    "# Perform z-test for counts, nobs, and value\n",
    "ztest = # Your code here\n",
    "print(\"(\", end=\"\")\n",
    "print('%.3f' % ztest[0] + \", \", end=\"\")\n",
    "print('%.3f' % ztest[1] + \")\")\n",
    "\n",
    "\n",
    "if ztest[1] < 0.01:\n",
    "    print(\"The two-tailed p-value, \", end=\"\")\n",
    "    print('%.3f' % ztest[1] + \", is less than \\u03B1. Thus, sufficient evidence exists to support the hypothesis that the proportion is different from\", value)\n",
    "else:\n",
    "    print(\"The two-tailed p-value, \", end=\"\")\n",
    "    print('%.3f' % ztest[1] + \", is greater than \\u03B1. Thus, insufficient evidence exists to support the hypothesis that the proportion is different from\", value)"
   ]
  },
  {
   "cell_type": "markdown",
   "metadata": {
    "id": "FgEzpq02F1-e"
   },
   "source": [
    "#**LAB 3: Solution**"
   ]
  },
  {
   "cell_type": "code",
   "execution_count": 6,
   "metadata": {
    "colab": {
     "base_uri": "https://localhost:8080/"
    },
    "executionInfo": {
     "elapsed": 4529,
     "status": "ok",
     "timestamp": 1695341812889,
     "user": {
      "displayName": "Mohammad Toutiaee",
      "userId": "02698600221419502368"
     },
     "user_tz": 420
    },
    "id": "s311TEQBF3r3",
    "outputId": "c60e9ed4-ff05-49b0-dee0-4de7d66563fe"
   },
   "outputs": [
    {
     "name": "stdout",
     "output_type": "stream",
     "text": [
      "0.5\n",
      "2\n",
      "(4.902, 0.000)\n",
      "The two-tailed p-value, 0.000, is less than α. Thus, sufficient evidence exists to support the hypothesis that the proportion is different from 0.5\n"
     ]
    }
   ],
   "source": [
    "import statsmodels.stats as st\n",
    "from statsmodels.stats.proportion import proportions_ztest\n",
    "import pandas as pd\n",
    "\n",
    "# Read in gpa.csv\n",
    "gpa = pd.read_csv(\"https://raw.githubusercontent.com/mh2t/DS5110/main/data/gpa.csv\")\n",
    "\n",
    "value = float(input())\n",
    "cutoff = float(input())\n",
    "\n",
    "# Determine the number of students with a gpa higher than cutoff\n",
    "counts = gpa.gpa[gpa.gpa > cutoff].count()\n",
    "\n",
    "# Determine the total number of students\n",
    "nobs = gpa.gpa.count()\n",
    "\n",
    "# Perform z-test for counts, nobs, and value\n",
    "ztest = proportions_ztest(counts, nobs, value, prop_var=value )\n",
    "print(\"(\", end=\"\")\n",
    "print('%.3f' % ztest[0] + \", \", end=\"\")\n",
    "print('%.3f' % ztest[1] + \")\")\n",
    "\n",
    "\n",
    "if ztest[1] < 0.01:\n",
    "    print(\"The two-tailed p-value, \", end=\"\")\n",
    "    print('%.3f' % ztest[1] + \", is less than \\u03B1. Thus, sufficient evidence exists to support the hypothesis that the proportion is different from\", value)\n",
    "else:\n",
    "    print(\"The two-tailed p-value, \", end=\"\")\n",
    "    print('%.3f' % ztest[1] + \", is greater than \\u03B1. Thus, insufficient evidence exists to support the hypothesis that the proportion is different from\", value)"
   ]
  }
 ],
 "metadata": {
  "colab": {
   "authorship_tag": "ABX9TyPip6rGY1mKquvpvueteOfE",
   "provenance": []
  },
  "kernelspec": {
   "display_name": "Python 3 (ipykernel)",
   "language": "python",
   "name": "python3"
  },
  "language_info": {
   "codemirror_mode": {
    "name": "ipython",
    "version": 3
   },
   "file_extension": ".py",
   "mimetype": "text/x-python",
   "name": "python",
   "nbconvert_exporter": "python",
   "pygments_lexer": "ipython3",
   "version": "3.12.4"
  }
 },
 "nbformat": 4,
 "nbformat_minor": 4
}
